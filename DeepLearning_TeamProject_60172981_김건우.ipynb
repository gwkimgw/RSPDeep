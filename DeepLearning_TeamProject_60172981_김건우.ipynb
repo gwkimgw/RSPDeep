{
  "cells": [
    {
      "cell_type": "markdown",
      "metadata": {
        "id": "view-in-github",
        "colab_type": "text"
      },
      "source": [
        "<a href=\"https://colab.research.google.com/github/gwkimgw/RSPDeep/blob/master/DeepLearning_TeamProject_60172981_%EA%B9%80%EA%B1%B4%EC%9A%B0.ipynb\" target=\"_parent\"><img src=\"https://colab.research.google.com/assets/colab-badge.svg\" alt=\"Open In Colab\"/></a>"
      ]
    },
    {
      "cell_type": "code",
      "execution_count": null,
      "metadata": {
        "colab": {
          "base_uri": "https://localhost:8080/"
        },
        "id": "7J3jIOH4Ee-v",
        "outputId": "1cd8f2cc-b4ca-4658-e729-8960c9107ef2"
      },
      "outputs": [
        {
          "name": "stdout",
          "output_type": "stream",
          "text": [
            "Found 2766 images belonging to 3 classes.\n",
            "Found 306 images belonging to 3 classes.\n"
          ]
        }
      ],
      "source": [
        "import torch\n",
        "import tensorflow as tf\n",
        "from tensorflow.keras.preprocessing.image import ImageDataGenerator\n",
        "import os\n",
        "\n",
        "train_datagen = ImageDataGenerator(\n",
        "    rotation_range = 30,\n",
        "    horizontal_flip = True,\n",
        "    vertical_flip = True,\n",
        "    validation_split = 0.1\n",
        ")\n",
        "\n",
        "dir = '/content/drive/MyDrive/기말프로젝트 데이터'\n",
        "\n",
        "train_generator = train_datagen.flow_from_directory(\n",
        "    dir,\n",
        "    target_size = (150, 150),\n",
        "    class_mode = 'categorical',\n",
        "    batch_size = 32,\n",
        "    shuffle='true',\n",
        "    subset = 'training'\n",
        ")\n",
        "\n",
        "validation_generator = train_datagen.flow_from_directory(\n",
        "    dir,\n",
        "    target_size = (150, 150),\n",
        "    class_mode = 'categorical',\n",
        "    batch_size = 32,\n",
        "    subset = 'validation'\n",
        ")"
      ]
    },
    {
      "cell_type": "code",
      "execution_count": null,
      "metadata": {
        "id": "8IZwiGM9YMxS"
      },
      "outputs": [],
      "source": [
        "model = tf.keras.models.Sequential([\n",
        "    tf.keras.layers.Conv2D(32, (3, 3), activation = 'relu', input_shape = (150, 150, 3)),\n",
        "    tf.keras.layers.MaxPooling2D(2, 2),\n",
        "    tf.keras.layers.Conv2D(64, (3, 3), activation = 'relu'),\n",
        "    tf.keras.layers.MaxPooling2D(2, 2),\n",
        "    tf.keras.layers.Conv2D(128, (3, 3), activation = 'relu'),\n",
        "    tf.keras.layers.MaxPooling2D(2, 2),\n",
        "    tf.keras.layers.Conv2D(256, (3, 3), activation = 'relu'),\n",
        "    tf.keras.layers.MaxPooling2D(2, 2),\n",
        "    tf.keras.layers.Flatten(),\n",
        "    tf.keras.layers.Dense(512, activation = 'relu'),\n",
        "    tf.keras.layers.Dense(3, activation = 'softmax')\n",
        "])"
      ]
    },
    {
      "cell_type": "code",
      "execution_count": null,
      "metadata": {
        "id": "kuASSfBTYRn5"
      },
      "outputs": [],
      "source": [
        "model.compile(\n",
        "    optimizer = 'adam',\n",
        "    loss = 'categorical_crossentropy',\n",
        "    metrics = ['accuracy']\n",
        ")"
      ]
    },
    {
      "cell_type": "code",
      "execution_count": null,
      "metadata": {
        "colab": {
          "background_save": true,
          "base_uri": "https://localhost:8080/"
        },
        "id": "qc0TIrioYZlB",
        "outputId": "fe54f7d6-640f-4f6c-db62-0ea1c74c7bf4"
      },
      "outputs": [
        {
          "name": "stdout",
          "output_type": "stream",
          "text": [
            "Epoch 1/50\n",
            "87/87 - 197s - loss: 20.5809 - accuracy: 0.3254 - val_loss: 1.0994 - val_accuracy: 0.3137 - 197s/epoch - 2s/step\n",
            "Epoch 2/50\n",
            "87/87 - 179s - loss: 1.0981 - accuracy: 0.3275 - val_loss: 1.0988 - val_accuracy: 0.3301 - 179s/epoch - 2s/step\n",
            "Epoch 3/50\n",
            "87/87 - 182s - loss: 1.0986 - accuracy: 0.3366 - val_loss: 1.0987 - val_accuracy: 0.3268 - 182s/epoch - 2s/step\n",
            "Epoch 4/50\n",
            "87/87 - 182s - loss: 1.1003 - accuracy: 0.3203 - val_loss: 1.0986 - val_accuracy: 0.3333 - 182s/epoch - 2s/step\n",
            "Epoch 5/50\n",
            "87/87 - 179s - loss: 1.0989 - accuracy: 0.3348 - val_loss: 1.0987 - val_accuracy: 0.3301 - 179s/epoch - 2s/step\n",
            "Epoch 6/50\n",
            "87/87 - 182s - loss: 1.0997 - accuracy: 0.3203 - val_loss: 1.0989 - val_accuracy: 0.3366 - 182s/epoch - 2s/step\n",
            "Epoch 7/50\n",
            "87/87 - 179s - loss: 1.0973 - accuracy: 0.3377 - val_loss: 1.0985 - val_accuracy: 0.3431 - 179s/epoch - 2s/step\n",
            "Epoch 8/50\n",
            "87/87 - 180s - loss: 1.0987 - accuracy: 0.3221 - val_loss: 1.0985 - val_accuracy: 0.3333 - 180s/epoch - 2s/step\n",
            "Epoch 9/50\n",
            "87/87 - 179s - loss: 1.0995 - accuracy: 0.3348 - val_loss: 1.0970 - val_accuracy: 0.3431 - 179s/epoch - 2s/step\n",
            "Epoch 10/50\n",
            "87/87 - 181s - loss: 1.1022 - accuracy: 0.3377 - val_loss: 1.0985 - val_accuracy: 0.3333 - 181s/epoch - 2s/step\n",
            "Epoch 11/50\n",
            "87/87 - 179s - loss: 1.0985 - accuracy: 0.3362 - val_loss: 1.0985 - val_accuracy: 0.3333 - 179s/epoch - 2s/step\n",
            "Epoch 12/50\n",
            "87/87 - 180s - loss: 1.0994 - accuracy: 0.3348 - val_loss: 1.0986 - val_accuracy: 0.3333 - 180s/epoch - 2s/step\n",
            "Epoch 13/50\n",
            "87/87 - 181s - loss: 1.0999 - accuracy: 0.3236 - val_loss: 1.0983 - val_accuracy: 0.3399 - 181s/epoch - 2s/step\n",
            "Epoch 14/50\n",
            "87/87 - 179s - loss: 1.1006 - accuracy: 0.3286 - val_loss: 1.0986 - val_accuracy: 0.3366 - 179s/epoch - 2s/step\n",
            "Epoch 15/50\n",
            "87/87 - 180s - loss: 1.1012 - accuracy: 0.3221 - val_loss: 1.0988 - val_accuracy: 0.3301 - 180s/epoch - 2s/step\n",
            "Epoch 16/50\n",
            "87/87 - 178s - loss: 1.1038 - accuracy: 0.3348 - val_loss: 1.0984 - val_accuracy: 0.3366 - 178s/epoch - 2s/step\n",
            "Epoch 17/50\n",
            "87/87 - 180s - loss: 1.0989 - accuracy: 0.3388 - val_loss: 1.0990 - val_accuracy: 0.3301 - 180s/epoch - 2s/step\n",
            "Epoch 18/50\n",
            "87/87 - 179s - loss: 1.0967 - accuracy: 0.3449 - val_loss: 1.0971 - val_accuracy: 0.3366 - 179s/epoch - 2s/step\n",
            "Epoch 19/50\n",
            "87/87 - 180s - loss: 1.0967 - accuracy: 0.3279 - val_loss: 1.0989 - val_accuracy: 0.3333 - 180s/epoch - 2s/step\n",
            "Epoch 20/50\n",
            "87/87 - 180s - loss: 1.0955 - accuracy: 0.3228 - val_loss: 1.0982 - val_accuracy: 0.3301 - 180s/epoch - 2s/step\n",
            "Epoch 21/50\n",
            "87/87 - 178s - loss: 1.1016 - accuracy: 0.3377 - val_loss: 1.0986 - val_accuracy: 0.3333 - 178s/epoch - 2s/step\n",
            "Epoch 22/50\n",
            "87/87 - 179s - loss: 1.0981 - accuracy: 0.3221 - val_loss: 1.0985 - val_accuracy: 0.3333 - 179s/epoch - 2s/step\n",
            "Epoch 23/50\n",
            "87/87 - 178s - loss: 1.1037 - accuracy: 0.3239 - val_loss: 1.0984 - val_accuracy: 0.3333 - 178s/epoch - 2s/step\n",
            "Epoch 24/50\n",
            "87/87 - 180s - loss: 1.0985 - accuracy: 0.3308 - val_loss: 1.0987 - val_accuracy: 0.3333 - 180s/epoch - 2s/step\n",
            "Epoch 25/50\n",
            "87/87 - 180s - loss: 1.0996 - accuracy: 0.3348 - val_loss: 1.0988 - val_accuracy: 0.3333 - 180s/epoch - 2s/step\n",
            "Epoch 26/50\n",
            "87/87 - 178s - loss: 1.1609 - accuracy: 0.3348 - val_loss: 1.0984 - val_accuracy: 0.3333 - 178s/epoch - 2s/step\n",
            "Epoch 27/50\n",
            "87/87 - 179s - loss: 1.1091 - accuracy: 0.3268 - val_loss: 1.0986 - val_accuracy: 0.3333 - 179s/epoch - 2s/step\n",
            "Epoch 28/50\n",
            "87/87 - 177s - loss: 1.0990 - accuracy: 0.3286 - val_loss: 1.0985 - val_accuracy: 0.3366 - 177s/epoch - 2s/step\n"
          ]
        }
      ],
      "source": [
        "model.fit(\n",
        "    train_generator,\n",
        "    validation_data = validation_generator,\n",
        "    epochs = 50,\n",
        "    batch_size = 10,\n",
        "    verbose = 2\n",
        ")"
      ]
    },
    {
      "cell_type": "code",
      "execution_count": null,
      "metadata": {
        "id": "T-NWXggKIFp_"
      },
      "outputs": [],
      "source": [
        "torch.save(model.state_dict(), 'model_60172981.pt')"
      ]
    },
    {
      "cell_type": "code",
      "execution_count": null,
      "metadata": {
        "id": "VQ0ta3xOqw4Q"
      },
      "outputs": [],
      "source": [
        "model = CNN()\n",
        "model.load_state_dict(torch.load('model_60172981.pt'))\n",
        "\n",
        "SVG(model_to_dot(model, show_shapes=True).create(prog='dot', format='svg'))\n",
        "model.summary()"
      ]
    }
  ],
  "metadata": {
    "accelerator": "GPU",
    "colab": {
      "provenance": [],
      "collapsed_sections": [],
      "mount_file_id": "1EHX-iShM2vOJ7o9KmWakXUWvXQufO2Ua",
      "authorship_tag": "ABX9TyO50VVDewyE3A1UmHp4kPvE",
      "include_colab_link": true
    },
    "kernelspec": {
      "display_name": "Python 3",
      "name": "python3"
    },
    "language_info": {
      "name": "python"
    }
  },
  "nbformat": 4,
  "nbformat_minor": 0
}